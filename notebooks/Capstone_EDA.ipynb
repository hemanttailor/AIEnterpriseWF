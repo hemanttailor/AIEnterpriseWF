{
 "cells": [
  {
   "cell_type": "markdown",
   "metadata": {},
   "source": [
    "# Data Ingestion and Preprocessing\n",
    "\n",
    "It can be seen that each json file represents a monthly data of AAVAIL's transaction for different countries. The various features availabe in the data are \"TimesViewed\", \"country\", \"customer_id\", \"day\", \"invoice\", \"month\", \"total_price\" and \"year\" alongwith a unique stream id. These can be used to create a dataframe which will then be used to merge all data of all the months to create one single dataframe."
   ]
  },
  {
   "cell_type": "code",
   "execution_count": 1,
   "metadata": {},
   "outputs": [
    {
     "name": "stderr",
     "output_type": "stream",
     "text": [
      "C:\\ProgramData\\Anaconda3\\lib\\site-packages\\statsmodels\\tools\\_testing.py:19: FutureWarning: pandas.util.testing is deprecated. Use the functions in the public API at pandas.testing instead.\n",
      "  import pandas.util.testing as tm\n"
     ]
    }
   ],
   "source": [
    "# Import packages and modules\n",
    "import os, json\n",
    "import numpy as np\n",
    "import pandas as pd\n",
    "import matplotlib.pyplot as plt\n",
    "import seaborn as sns\n",
    "\n",
    "plt.style.use('seaborn')\n",
    "%matplotlib inline"
   ]
  },
  {
   "cell_type": "code",
   "execution_count": 2,
   "metadata": {},
   "outputs": [
    {
     "name": "stdout",
     "output_type": "stream",
     "text": [
      "(815011, 10)\n"
     ]
    },
    {
     "data": {
      "text/html": [
       "<div>\n",
       "<style scoped>\n",
       "    .dataframe tbody tr th:only-of-type {\n",
       "        vertical-align: middle;\n",
       "    }\n",
       "\n",
       "    .dataframe tbody tr th {\n",
       "        vertical-align: top;\n",
       "    }\n",
       "\n",
       "    .dataframe thead th {\n",
       "        text-align: right;\n",
       "    }\n",
       "</style>\n",
       "<table border=\"1\" class=\"dataframe\">\n",
       "  <thead>\n",
       "    <tr style=\"text-align: right;\">\n",
       "      <th></th>\n",
       "      <th>country</th>\n",
       "      <th>customer_id</th>\n",
       "      <th>day</th>\n",
       "      <th>invoice</th>\n",
       "      <th>month</th>\n",
       "      <th>price</th>\n",
       "      <th>stream_id</th>\n",
       "      <th>times_viewed</th>\n",
       "      <th>year</th>\n",
       "      <th>invoice_date</th>\n",
       "    </tr>\n",
       "  </thead>\n",
       "  <tbody>\n",
       "    <tr>\n",
       "      <th>0</th>\n",
       "      <td>United Kingdom</td>\n",
       "      <td>13085.0</td>\n",
       "      <td>28</td>\n",
       "      <td>489434</td>\n",
       "      <td>11</td>\n",
       "      <td>6.95</td>\n",
       "      <td>85048</td>\n",
       "      <td>12</td>\n",
       "      <td>2017</td>\n",
       "      <td>2017-11-28</td>\n",
       "    </tr>\n",
       "    <tr>\n",
       "      <th>1</th>\n",
       "      <td>United Kingdom</td>\n",
       "      <td>13085.0</td>\n",
       "      <td>28</td>\n",
       "      <td>489434</td>\n",
       "      <td>11</td>\n",
       "      <td>6.75</td>\n",
       "      <td>79323W</td>\n",
       "      <td>12</td>\n",
       "      <td>2017</td>\n",
       "      <td>2017-11-28</td>\n",
       "    </tr>\n",
       "    <tr>\n",
       "      <th>2</th>\n",
       "      <td>United Kingdom</td>\n",
       "      <td>13085.0</td>\n",
       "      <td>28</td>\n",
       "      <td>489434</td>\n",
       "      <td>11</td>\n",
       "      <td>2.10</td>\n",
       "      <td>22041</td>\n",
       "      <td>21</td>\n",
       "      <td>2017</td>\n",
       "      <td>2017-11-28</td>\n",
       "    </tr>\n",
       "    <tr>\n",
       "      <th>3</th>\n",
       "      <td>United Kingdom</td>\n",
       "      <td>13085.0</td>\n",
       "      <td>28</td>\n",
       "      <td>489434</td>\n",
       "      <td>11</td>\n",
       "      <td>1.25</td>\n",
       "      <td>21232</td>\n",
       "      <td>5</td>\n",
       "      <td>2017</td>\n",
       "      <td>2017-11-28</td>\n",
       "    </tr>\n",
       "    <tr>\n",
       "      <th>4</th>\n",
       "      <td>United Kingdom</td>\n",
       "      <td>13085.0</td>\n",
       "      <td>28</td>\n",
       "      <td>489434</td>\n",
       "      <td>11</td>\n",
       "      <td>1.65</td>\n",
       "      <td>22064</td>\n",
       "      <td>17</td>\n",
       "      <td>2017</td>\n",
       "      <td>2017-11-28</td>\n",
       "    </tr>\n",
       "  </tbody>\n",
       "</table>\n",
       "</div>"
      ],
      "text/plain": [
       "          country  customer_id  day invoice  month  price stream_id  \\\n",
       "0  United Kingdom      13085.0   28  489434     11   6.95     85048   \n",
       "1  United Kingdom      13085.0   28  489434     11   6.75    79323W   \n",
       "2  United Kingdom      13085.0   28  489434     11   2.10     22041   \n",
       "3  United Kingdom      13085.0   28  489434     11   1.25     21232   \n",
       "4  United Kingdom      13085.0   28  489434     11   1.65     22064   \n",
       "\n",
       "   times_viewed  year invoice_date  \n",
       "0            12  2017   2017-11-28  \n",
       "1            12  2017   2017-11-28  \n",
       "2            21  2017   2017-11-28  \n",
       "3             5  2017   2017-11-28  \n",
       "4            17  2017   2017-11-28  "
      ]
     },
     "execution_count": 2,
     "metadata": {},
     "output_type": "execute_result"
    }
   ],
   "source": [
    "# Data Ingestion and Preprocessing\n",
    "from data_ingestor import fetch_data\n",
    "df_total = pd.DataFrame()\n",
    "\n",
    "data_dir = os.path.join(\"..\",\"data\",\"cs-train\")\n",
    "df_total = fetch_data(data_dir)\n",
    "\n",
    "print(df_total.shape)\n",
    "df_total.head()"
   ]
  },
  {
   "cell_type": "markdown",
   "metadata": {},
   "source": [
    "Data type of data in all the columns is checked in order to make sure further steps can be carried out with ease"
   ]
  },
  {
   "cell_type": "code",
   "execution_count": 4,
   "metadata": {},
   "outputs": [
    {
     "data": {
      "text/plain": [
       "country                 object\n",
       "customer_id            float64\n",
       "day                      int64\n",
       "invoice                 object\n",
       "month                    int64\n",
       "price                  float64\n",
       "stream_id               object\n",
       "times_viewed             int64\n",
       "year                     int64\n",
       "invoice_date    datetime64[ns]\n",
       "dtype: object"
      ]
     },
     "execution_count": 4,
     "metadata": {},
     "output_type": "execute_result"
    }
   ],
   "source": [
    "df_total.dtypes"
   ]
  },
  {
   "cell_type": "code",
   "execution_count": 5,
   "metadata": {},
   "outputs": [
    {
     "data": {
      "text/html": [
       "<div>\n",
       "<style scoped>\n",
       "    .dataframe tbody tr th:only-of-type {\n",
       "        vertical-align: middle;\n",
       "    }\n",
       "\n",
       "    .dataframe tbody tr th {\n",
       "        vertical-align: top;\n",
       "    }\n",
       "\n",
       "    .dataframe thead th {\n",
       "        text-align: right;\n",
       "    }\n",
       "</style>\n",
       "<table border=\"1\" class=\"dataframe\">\n",
       "  <thead>\n",
       "    <tr style=\"text-align: right;\">\n",
       "      <th></th>\n",
       "      <th>country</th>\n",
       "      <th>customer_id</th>\n",
       "      <th>day</th>\n",
       "      <th>invoice</th>\n",
       "      <th>month</th>\n",
       "      <th>price</th>\n",
       "      <th>stream_id</th>\n",
       "      <th>times_viewed</th>\n",
       "      <th>year</th>\n",
       "      <th>invoice_date</th>\n",
       "    </tr>\n",
       "  </thead>\n",
       "  <tbody>\n",
       "    <tr>\n",
       "      <th>180418</th>\n",
       "      <td>United Kingdom</td>\n",
       "      <td>NaN</td>\n",
       "      <td>26</td>\n",
       "      <td>506401</td>\n",
       "      <td>4</td>\n",
       "      <td>-53594.36</td>\n",
       "      <td>B</td>\n",
       "      <td>1</td>\n",
       "      <td>2018</td>\n",
       "      <td>2018-04-26</td>\n",
       "    </tr>\n",
       "    <tr>\n",
       "      <th>276274</th>\n",
       "      <td>United Kingdom</td>\n",
       "      <td>NaN</td>\n",
       "      <td>16</td>\n",
       "      <td>516228</td>\n",
       "      <td>7</td>\n",
       "      <td>-44031.79</td>\n",
       "      <td>B</td>\n",
       "      <td>1</td>\n",
       "      <td>2018</td>\n",
       "      <td>2018-07-16</td>\n",
       "    </tr>\n",
       "    <tr>\n",
       "      <th>403469</th>\n",
       "      <td>United Kingdom</td>\n",
       "      <td>NaN</td>\n",
       "      <td>17</td>\n",
       "      <td>528059</td>\n",
       "      <td>10</td>\n",
       "      <td>-38925.87</td>\n",
       "      <td>B</td>\n",
       "      <td>1</td>\n",
       "      <td>2018</td>\n",
       "      <td>2018-10-17</td>\n",
       "    </tr>\n",
       "  </tbody>\n",
       "</table>\n",
       "</div>"
      ],
      "text/plain": [
       "               country  customer_id  day invoice  month     price stream_id  \\\n",
       "180418  United Kingdom          NaN   26  506401      4 -53594.36         B   \n",
       "276274  United Kingdom          NaN   16  516228      7 -44031.79         B   \n",
       "403469  United Kingdom          NaN   17  528059     10 -38925.87         B   \n",
       "\n",
       "        times_viewed  year invoice_date  \n",
       "180418             1  2018   2018-04-26  \n",
       "276274             1  2018   2018-07-16  \n",
       "403469             1  2018   2018-10-17  "
      ]
     },
     "execution_count": 5,
     "metadata": {},
     "output_type": "execute_result"
    }
   ],
   "source": [
    "# See if price is negative. If yes, remove\n",
    "df_total[df_total['price'] < 0]"
   ]
  },
  {
   "cell_type": "markdown",
   "metadata": {},
   "source": [
    "Clean the data by dropping rows where invoice id is not a number in order to facilitate better matching. Though it was handled during data ingestion, make sure we don't have any left."
   ]
  },
  {
   "cell_type": "code",
   "execution_count": 6,
   "metadata": {},
   "outputs": [
    {
     "data": {
      "text/plain": [
       "(815011, 10)"
      ]
     },
     "execution_count": 6,
     "metadata": {},
     "output_type": "execute_result"
    }
   ],
   "source": [
    "df_clean = df_total[~df_total['invoice'].str.contains(\"[a-zA-Z]\").fillna(False)]\n",
    "df_clean.shape"
   ]
  },
  {
   "cell_type": "code",
   "execution_count": 7,
   "metadata": {},
   "outputs": [
    {
     "data": {
      "text/plain": [
       "(815008, 10)"
      ]
     },
     "execution_count": 7,
     "metadata": {},
     "output_type": "execute_result"
    }
   ],
   "source": [
    "df_clean = df_clean[df_clean['price'] >= 0]\n",
    "df_clean.shape"
   ]
  },
  {
   "cell_type": "code",
   "execution_count": 8,
   "metadata": {},
   "outputs": [
    {
     "data": {
      "text/plain": [
       "42643"
      ]
     },
     "execution_count": 8,
     "metadata": {},
     "output_type": "execute_result"
    }
   ],
   "source": [
    "# Number of unique invoice ids\n",
    "df_clean['invoice'].nunique()"
   ]
  },
  {
   "cell_type": "markdown",
   "metadata": {},
   "source": [
    "# Exploratory Data Analysis\n",
    "\n",
    "Quality Assurance Steps:\n",
    "1. Remove any repeat customers based on customer_id\n",
    "2. Check for missing values"
   ]
  },
  {
   "cell_type": "code",
   "execution_count": 9,
   "metadata": {},
   "outputs": [
    {
     "name": "stdout",
     "output_type": "stream",
     "text": [
      "\n",
      "Cleaning Summary\n",
      "-----------------------------------\n",
      "Total records: 815008\n",
      "Removed 28844 duplicate rows\n",
      "\n",
      "Missing Value Summary\n",
      "-----------------------------------\n",
      "\n",
      "df_clean\n",
      "---------------\n",
      "country              0\n",
      "customer_id     182191\n",
      "day                  0\n",
      "invoice              0\n",
      "month                0\n",
      "price                0\n",
      "stream_id            0\n",
      "times_viewed         0\n",
      "year                 0\n",
      "invoice_date         0\n",
      "dtype: int64\n"
     ]
    }
   ],
   "source": [
    "print(\"\\nCleaning Summary\\n{}\".format(\"-\"*35))\n",
    "print(\"Total records:\", df_clean.shape[0])\n",
    "duplicate_rows = df_clean.duplicated()\n",
    "if True in duplicate_rows:\n",
    "    df_clean = df_clean[~duplicate_rows]\n",
    "print(\"Removed {} duplicate rows\".format(np.where(duplicate_rows==True)[0].size))\n",
    "\n",
    "print(\"\\nMissing Value Summary\\n{}\".format(\"-\"*35))\n",
    "print(\"\\ndf_clean\\n{}\".format(\"-\"*15))\n",
    "print(df_clean.isnull().sum(axis = 0))"
   ]
  },
  {
   "cell_type": "markdown",
   "metadata": {},
   "source": [
    "Look for the countries with higher revenues.  'United Kingdom' has highest revenue"
   ]
  },
  {
   "cell_type": "code",
   "execution_count": 10,
   "metadata": {},
   "outputs": [
    {
     "name": "stdout",
     "output_type": "stream",
     "text": [
      "Top 10 Countries in terms of Revenue\n",
      "(43, 1)\n"
     ]
    },
    {
     "data": {
      "text/html": [
       "<div>\n",
       "<style scoped>\n",
       "    .dataframe tbody tr th:only-of-type {\n",
       "        vertical-align: middle;\n",
       "    }\n",
       "\n",
       "    .dataframe tbody tr th {\n",
       "        vertical-align: top;\n",
       "    }\n",
       "\n",
       "    .dataframe thead th {\n",
       "        text-align: right;\n",
       "    }\n",
       "</style>\n",
       "<table border=\"1\" class=\"dataframe\">\n",
       "  <thead>\n",
       "    <tr style=\"text-align: right;\">\n",
       "      <th></th>\n",
       "      <th>revenue</th>\n",
       "    </tr>\n",
       "    <tr>\n",
       "      <th>country</th>\n",
       "      <th></th>\n",
       "    </tr>\n",
       "  </thead>\n",
       "  <tbody>\n",
       "    <tr>\n",
       "      <th>United Kingdom</th>\n",
       "      <td>3.518516e+06</td>\n",
       "    </tr>\n",
       "    <tr>\n",
       "      <th>EIRE</th>\n",
       "      <td>1.062234e+05</td>\n",
       "    </tr>\n",
       "    <tr>\n",
       "      <th>Germany</th>\n",
       "      <td>4.835679e+04</td>\n",
       "    </tr>\n",
       "    <tr>\n",
       "      <th>France</th>\n",
       "      <td>3.966539e+04</td>\n",
       "    </tr>\n",
       "    <tr>\n",
       "      <th>Norway</th>\n",
       "      <td>3.833638e+04</td>\n",
       "    </tr>\n",
       "    <tr>\n",
       "      <th>Spain</th>\n",
       "      <td>1.589153e+04</td>\n",
       "    </tr>\n",
       "    <tr>\n",
       "      <th>Hong Kong</th>\n",
       "      <td>1.444137e+04</td>\n",
       "    </tr>\n",
       "    <tr>\n",
       "      <th>Portugal</th>\n",
       "      <td>1.318820e+04</td>\n",
       "    </tr>\n",
       "    <tr>\n",
       "      <th>Singapore</th>\n",
       "      <td>1.317592e+04</td>\n",
       "    </tr>\n",
       "    <tr>\n",
       "      <th>Netherlands</th>\n",
       "      <td>1.230615e+04</td>\n",
       "    </tr>\n",
       "  </tbody>\n",
       "</table>\n",
       "</div>"
      ],
      "text/plain": [
       "                     revenue\n",
       "country                     \n",
       "United Kingdom  3.518516e+06\n",
       "EIRE            1.062234e+05\n",
       "Germany         4.835679e+04\n",
       "France          3.966539e+04\n",
       "Norway          3.833638e+04\n",
       "Spain           1.589153e+04\n",
       "Hong Kong       1.444137e+04\n",
       "Portugal        1.318820e+04\n",
       "Singapore       1.317592e+04\n",
       "Netherlands     1.230615e+04"
      ]
     },
     "execution_count": 10,
     "metadata": {},
     "output_type": "execute_result"
    }
   ],
   "source": [
    "df_rev = df_clean[['country', 'price']].groupby('country').sum().sort_values('price', ascending=False)\n",
    "df_rev = df_rev.rename(columns={'price': 'revenue'})\n",
    "df_rev_by_country = df_rev.reset_index()\n",
    "print(\"Top 10 Countries in terms of Revenue\")\n",
    "print(df_rev.shape)\n",
    "df_rev[:10]"
   ]
  },
  {
   "cell_type": "code",
   "execution_count": 11,
   "metadata": {},
   "outputs": [
    {
     "data": {
      "text/plain": [
       "United Kingdom          723321\n",
       "EIRE                     13432\n",
       "Germany                  13123\n",
       "France                    9669\n",
       "Netherlands               4022\n",
       "Spain                     2557\n",
       "Switzerland               2320\n",
       "Belgium                   2159\n",
       "Portugal                  1734\n",
       "Australia                 1525\n",
       "Channel Islands           1270\n",
       "Sweden                    1155\n",
       "Italy                     1025\n",
       "Cyprus                     898\n",
       "Finland                    749\n",
       "Norway                     736\n",
       "Austria                    719\n",
       "Greece                     627\n",
       "Denmark                    617\n",
       "Unspecified                611\n",
       "Japan                      501\n",
       "United Arab Emirates       462\n",
       "Poland                     425\n",
       "Singapore                  310\n",
       "Hong Kong                  274\n",
       "USA                        266\n",
       "Canada                     223\n",
       "Malta                      219\n",
       "Lithuania                  173\n",
       "Iceland                    167\n",
       "Israel                     139\n",
       "Bahrain                    126\n",
       "RSA                        111\n",
       "Brazil                      94\n",
       "Thailand                    76\n",
       "Korea                       63\n",
       "European Community          61\n",
       "Lebanon                     58\n",
       "West Indies                 54\n",
       "Bermuda                     34\n",
       "Nigeria                     32\n",
       "Czech Republic              17\n",
       "Saudi Arabia                10\n",
       "Name: country, dtype: int64"
      ]
     },
     "execution_count": 11,
     "metadata": {},
     "output_type": "execute_result"
    }
   ],
   "source": [
    "df_clean['country'].value_counts()"
   ]
  },
  {
   "cell_type": "code",
   "execution_count": 12,
   "metadata": {},
   "outputs": [
    {
     "data": {
      "text/plain": [
       "558475    705\n",
       "537434    689\n",
       "538071    658\n",
       "538349    620\n",
       "537237    609\n",
       "         ... \n",
       "507934      1\n",
       "554377      1\n",
       "520200      1\n",
       "533814      1\n",
       "542574      1\n",
       "Name: invoice, Length: 42643, dtype: int64"
      ]
     },
     "execution_count": 12,
     "metadata": {},
     "output_type": "execute_result"
    }
   ],
   "source": [
    "## Total Unique Invoices\n",
    "df_clean['invoice'].value_counts()"
   ]
  },
  {
   "cell_type": "markdown",
   "metadata": {},
   "source": [
    "There are quite few records for several countries with least revenues. So it would be better to get a subset of top 10 countries with highest revenue.  Perform further investigation based on this subset"
   ]
  },
  {
   "cell_type": "code",
   "execution_count": 13,
   "metadata": {},
   "outputs": [
    {
     "data": {
      "text/plain": [
       "(769178, 10)"
      ]
     },
     "execution_count": 13,
     "metadata": {},
     "output_type": "execute_result"
    }
   ],
   "source": [
    "## Subset of only top 10 countries for plots\n",
    "list_top_10 = ['United Kingdom', 'EIRE', 'Germany', 'France',\n",
    "               'Norway', 'Spain', 'Hong Kong', 'Portugal',\n",
    "               'Singapore', 'Netherlands']\n",
    "df_top = df_clean[df_clean['country'].isin(list_top_10)]\n",
    "df_top.shape"
   ]
  },
  {
   "cell_type": "markdown",
   "metadata": {},
   "source": [
    "### Visualization"
   ]
  },
  {
   "cell_type": "code",
   "execution_count": 14,
   "metadata": {},
   "outputs": [
    {
     "data": {
      "image/png": "[encoded data removed]",
      "text/plain": [
       "<Figure size 1008x432 with 1 Axes>"
      ]
     },
     "metadata": {
      "needs_background": "light"
     },
     "output_type": "display_data"
    }
   ],
   "source": [
    "fig = plt.figure(figsize=(14,6))\n",
    "ax2 = fig.add_subplot(121)\n",
    "\n",
    "table2 = pd.pivot_table(df_top, index = ['country'], values = 'price')\n",
    "table2.plot(kind='barh',ax=ax2)\n",
    "ax2.set_xlabel(\"Price\");"
   ]
  },
  {
   "cell_type": "code",
   "execution_count": 15,
   "metadata": {},
   "outputs": [
    {
     "data": {
      "image/png": "[encoded data removed]",
      "text/plain": [
       "<Figure size 1008x432 with 1 Axes>"
      ]
     },
     "metadata": {
      "needs_background": "light"
     },
     "output_type": "display_data"
    }
   ],
   "source": [
    "fig = plt.figure(figsize=(14,6))\n",
    "ax2 = fig.add_subplot(121)\n",
    "\n",
    "table2 = pd.pivot_table(df_top, index = ['country'], values = 'times_viewed')\n",
    "table2.plot(kind='barh',ax=ax2)\n",
    "ax2.set_xlabel(\"Number of times viewed\");"
   ]
  },
  {
   "cell_type": "code",
   "execution_count": 19,
   "metadata": {},
   "outputs": [
    {
     "data": {
      "text/plain": [
       "(0, 120)"
      ]
     },
     "execution_count": 19,
     "metadata": {},
     "output_type": "execute_result"
    },
    {
     "data": {
      "image/png": "[encoded data removed]",
      "text/plain": [
       "<Figure size 1008x432 with 1 Axes>"
      ]
     },
     "metadata": {
      "needs_background": "light"
     },
     "output_type": "display_data"
    }
   ],
   "source": [
    "fig = plt.figure(figsize=(14,6))\n",
    "ax1 = fig.add_subplot(121)\n",
    "\n",
    "table1 = pd.pivot_table(df_top,index='country',columns='year',values=\"price\")\n",
    "table1.plot(kind='bar',ax=ax1)\n",
    "ax1.set_ylabel(\"Price\")\n",
    "ax1.set_ylim((0,120))"
   ]
  },
  {
   "cell_type": "code",
   "execution_count": 20,
   "metadata": {},
   "outputs": [
    {
     "data": {
      "text/plain": [
       "(0, 12)"
      ]
     },
     "execution_count": 20,
     "metadata": {},
     "output_type": "execute_result"
    },
    {
     "data": {
      "image/png": "[encoded data removed]",
      "text/plain": [
       "<Figure size 1296x432 with 1 Axes>"
      ]
     },
     "metadata": {
      "needs_background": "light"
     },
     "output_type": "display_data"
    }
   ],
   "source": [
    "fig = plt.figure(figsize=(18,6))\n",
    "ax2 = fig.add_subplot(121)\n",
    "\n",
    "table2 = pd.pivot_table(df_top,index='country',columns='year',values=\"times_viewed\")\n",
    "table2.plot(kind='bar',ax=ax2)\n",
    "ax2.set_ylabel(\"Number of Views\")\n",
    "ax2.set_ylim((0,12))"
   ]
  },
  {
   "cell_type": "code",
   "execution_count": 21,
   "metadata": {},
   "outputs": [
    {
     "data": {
      "image/png": "[encoded data removed]",
      "text/plain": [
       "<Figure size 432x288 with 1 Axes>"
      ]
     },
     "metadata": {
      "needs_background": "light"
     },
     "output_type": "display_data"
    }
   ],
   "source": [
    "sns.distplot(df_top['price'], bins=10)\n",
    "plt.show()"
   ]
  },
  {
   "cell_type": "code",
   "execution_count": 22,
   "metadata": {},
   "outputs": [
    {
     "data": {
      "image/png": "[encoded data removed]",
      "text/plain": [
       "<Figure size 432x288 with 1 Axes>"
      ]
     },
     "metadata": {
      "needs_background": "light"
     },
     "output_type": "display_data"
    }
   ],
   "source": [
    "sns.distplot(df_top['times_viewed'], bins=10)\n",
    "plt.show()"
   ]
  },
  {
   "cell_type": "code",
   "execution_count": 23,
   "metadata": {},
   "outputs": [
    {
     "data": {
      "image/png": "[encoded data removed]",
      "text/plain": [
       "<Figure size 360x360 with 1 Axes>"
      ]
     },
     "metadata": {
      "needs_background": "light"
     },
     "output_type": "display_data"
    }
   ],
   "source": [
    "g = sns.relplot(x='invoice_date', y='price', data=df_top.groupby(pd.Grouper(key='invoice_date', freq='B')).sum().reset_index(), kind='line')\n",
    "g.fig.autofmt_xdate()"
   ]
  },
  {
   "cell_type": "markdown",
   "metadata": {},
   "source": [
    "In order to carry out a time series analysis, record of each day should be considered and the dataframe should be in a chronological order so that forecasting models can fit and provide revenue i.e price for the following month. Let's start by aggregating the transactions by day"
   ]
  },
  {
   "cell_type": "code",
   "execution_count": 24,
   "metadata": {},
   "outputs": [
    {
     "data": {
      "text/html": [
       "<div>\n",
       "<style scoped>\n",
       "    .dataframe tbody tr th:only-of-type {\n",
       "        vertical-align: middle;\n",
       "    }\n",
       "\n",
       "    .dataframe tbody tr th {\n",
       "        vertical-align: top;\n",
       "    }\n",
       "\n",
       "    .dataframe thead th {\n",
       "        text-align: right;\n",
       "    }\n",
       "</style>\n",
       "<table border=\"1\" class=\"dataframe\">\n",
       "  <thead>\n",
       "    <tr style=\"text-align: right;\">\n",
       "      <th></th>\n",
       "      <th>invoice_date</th>\n",
       "      <th>times_viewed</th>\n",
       "      <th>price</th>\n",
       "      <th>country</th>\n",
       "    </tr>\n",
       "  </thead>\n",
       "  <tbody>\n",
       "    <tr>\n",
       "      <th>0</th>\n",
       "      <td>2017-11-28</td>\n",
       "      <td>14859</td>\n",
       "      <td>14058.96</td>\n",
       "      <td>United Kingdom</td>\n",
       "    </tr>\n",
       "    <tr>\n",
       "      <th>1</th>\n",
       "      <td>2017-11-29</td>\n",
       "      <td>14073</td>\n",
       "      <td>13285.86</td>\n",
       "      <td>United Kingdom</td>\n",
       "    </tr>\n",
       "    <tr>\n",
       "      <th>2</th>\n",
       "      <td>2017-11-30</td>\n",
       "      <td>15534</td>\n",
       "      <td>13193.71</td>\n",
       "      <td>United Kingdom</td>\n",
       "    </tr>\n",
       "    <tr>\n",
       "      <th>3</th>\n",
       "      <td>2017-12-01</td>\n",
       "      <td>12065</td>\n",
       "      <td>9421.20</td>\n",
       "      <td>United Kingdom</td>\n",
       "    </tr>\n",
       "    <tr>\n",
       "      <th>4</th>\n",
       "      <td>2017-12-02</td>\n",
       "      <td>3101</td>\n",
       "      <td>1263.28</td>\n",
       "      <td>United Kingdom</td>\n",
       "    </tr>\n",
       "  </tbody>\n",
       "</table>\n",
       "</div>"
      ],
      "text/plain": [
       "  invoice_date  times_viewed     price         country\n",
       "0   2017-11-28         14859  14058.96  United Kingdom\n",
       "1   2017-11-29         14073  13285.86  United Kingdom\n",
       "2   2017-11-30         15534  13193.71  United Kingdom\n",
       "3   2017-12-01         12065   9421.20  United Kingdom\n",
       "4   2017-12-02          3101   1263.28  United Kingdom"
      ]
     },
     "execution_count": 24,
     "metadata": {},
     "output_type": "execute_result"
    }
   ],
   "source": [
    "df_agg = df_top.groupby(['invoice_date']).agg({'times_viewed':'sum', 'price':'sum',\n",
    "                                        'country':'first',}).reset_index()\n",
    "df_agg.head()"
   ]
  },
  {
   "cell_type": "code",
   "execution_count": 25,
   "metadata": {},
   "outputs": [
    {
     "name": "stdout",
     "output_type": "stream",
     "text": [
      "Total number of days in considerdation for analysis: 495\n"
     ]
    }
   ],
   "source": [
    "print(\"Total number of days in considerdation for analysis:\", df_agg.shape[0])"
   ]
  },
  {
   "cell_type": "code",
   "execution_count": 26,
   "metadata": {},
   "outputs": [
    {
     "name": "stdout",
     "output_type": "stream",
     "text": [
      "  invoice_date  times_viewed     price         country\n",
      "0   2017-11-28         14859  14058.96  United Kingdom\n",
      "    invoice_date  times_viewed   price         country\n",
      "494   2019-07-31          9359  4854.0  United Kingdom\n"
     ]
    }
   ],
   "source": [
    "print(df_agg.head(1))\n",
    "print(df_agg.tail(1))"
   ]
  },
  {
   "cell_type": "code",
   "execution_count": null,
   "metadata": {},
   "outputs": [],
   "source": []
  }
 ],
 "metadata": {
  "kernelspec": {
   "display_name": "Python 3",
   "language": "python",
   "name": "python3"
  },
  "language_info": {
   "codemirror_mode": {
    "name": "ipython",
    "version": 3
   },
   "file_extension": ".py",
   "mimetype": "text/x-python",
   "name": "python",
   "nbconvert_exporter": "python",
   "pygments_lexer": "ipython3",
   "version": "3.7.4"
  }
 },
 "nbformat": 4,
 "nbformat_minor": 4
}
